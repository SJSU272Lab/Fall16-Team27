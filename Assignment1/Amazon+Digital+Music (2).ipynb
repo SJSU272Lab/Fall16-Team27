{
 "cells": [
  {
   "cell_type": "code",
   "execution_count": null,
   "metadata": {
    "collapsed": true
   },
   "outputs": [],
   "source": [
    "# def set_hadoop_config(credentials):\n",
    "    prefix = \"fs.swift.service.\" + credentials['name'] \n",
    "    hconf = sc._jsc.hadoopConfiguration()\n",
    "    hconf.set(prefix + \".auth.url\", credentials['auth_url']+'/v3/auth/tokens')\n",
    "    hconf.set(prefix + \".auth.endpoint.prefix\", \"endpoints\")\n",
    "    hconf.set(prefix + \".tenant\", credentials['project_id'])\n",
    "    hconf.set(prefix + \".username\", credentials['user_id'])\n",
    "    hconf.set(prefix + \".password\", credentials['password'])\n",
    "    hconf.setInt(prefix + \".http.port\", 8080)\n",
    "    hconf.set(prefix + \".region\", credentials['region'])\n",
    "    hconf.setBoolean(prefix + \".public\", True)"
   ]
  },
  {
   "cell_type": "code",
   "execution_count": 2,
   "metadata": {
    "collapsed": true
   },
   "outputs": [],
   "source": [
    "credentials = {\n",
    "  'auth_url':'https://identity.open.softlayer.com',\n",
    "  'project':'object_storage_42fa9223_5435_461f_8dd5_0cb039c647e6',\n",
    "  'project_id':'9b56b688275a4bc4b5504219a3d46e83',\n",
    "  'region':'dallas',\n",
    "  'user_id':'1b4dfd29b87c437ea36961228e2f9a59',\n",
    "  'domain_id':'4083817df0394a2a913a8529fd580d22',\n",
    "  'domain_name':'1138005',\n",
    "  'username':'admin_16484d02d9ac61b305ea1ea5410b70aeb2bd584e',\n",
    "  'password':\"\"\"Yp^trGUgn4}(j60U\"\"\",\n",
    "  'filename':'ratings_Digital_Music.csv',\n",
    "  'container':'notebooks',\n",
    "  'tenantId':'s56d-f5f345bc4fd0b3-4f64990c7b62'\n",
    "}"
   ]
  },
  {
   "cell_type": "code",
   "execution_count": 3,
   "metadata": {
    "collapsed": true
   },
   "outputs": [],
   "source": [
    "credentials['name'] = 'keystone'\n",
    "set_hadoop_config(credentials)"
   ]
  },
  {
   "cell_type": "code",
   "execution_count": 6,
   "metadata": {
    "collapsed": false
   },
   "outputs": [
    {
     "name": "stdout",
     "output_type": "stream",
     "text": [
      "\n"
     ]
    }
   ],
   "source": [
    "music = sc.textFile(\"swift://notebooks.keystone/ratings_Digital_Music.csv\")"
   ]
  },
  {
   "cell_type": "code",
   "execution_count": 7,
   "metadata": {
    "collapsed": false
   },
   "outputs": [
    {
     "name": "stdout",
     "output_type": "stream",
     "text": [
      "Total records in the Amazon digital music dataset: 836007\n"
     ]
    }
   ],
   "source": [
    "print \"Total records in the Amazon digital music dataset:\", music.count()"
   ]
  },
  {
   "cell_type": "code",
   "execution_count": 10,
   "metadata": {
    "collapsed": false
   },
   "outputs": [
    {
     "name": "stdout",
     "output_type": "stream",
     "text": [
      "The first row in the 2015.csv dataset: USER,SONG,Rating,TIMESTAMP\n"
     ]
    }
   ],
   "source": [
    "print \"The first row in the 2015.csv dataset:\", music.first()"
   ]
  },
  {
   "cell_type": "code",
   "execution_count": 11,
   "metadata": {
    "collapsed": true
   },
   "outputs": [],
   "source": [
    "musicParse = music.map(lambda line : line.split(\",\"))"
   ]
  },
  {
   "cell_type": "code",
   "execution_count": 12,
   "metadata": {
    "collapsed": false
   },
   "outputs": [
    {
     "data": {
      "text/plain": [
       "[u'USER', u'SONG', u'Rating', u'TIMESTAMP']"
      ]
     },
     "execution_count": 12,
     "metadata": {},
     "output_type": "execute_result"
    }
   ],
   "source": [
    "musicParse.first()"
   ]
  },
  {
   "cell_type": "code",
   "execution_count": 13,
   "metadata": {
    "collapsed": true
   },
   "outputs": [],
   "source": [
    "fullRatedMusic = musicParse.filter(lambda x: x[2] == \"5\")"
   ]
  },
  {
   "cell_type": "code",
   "execution_count": 14,
   "metadata": {
    "collapsed": false
   },
   "outputs": [
    {
     "name": "stdout",
     "output_type": "stream",
     "text": [
      "622450\n"
     ]
    }
   ],
   "source": [
    "print fullRatedMusic.count()"
   ]
  },
  {
   "cell_type": "code",
   "execution_count": 15,
   "metadata": {
    "collapsed": true
   },
   "outputs": [],
   "source": [
    "# x[1] is the song\n",
    "# x[2] is the rating\n",
    "fullRatedMusicByKey = fullRatedMusic.map(lambda x : (x[1], (int(x[2]), 1)))"
   ]
  },
  {
   "cell_type": "code",
   "execution_count": 16,
   "metadata": {
    "collapsed": false
   },
   "outputs": [
    {
     "data": {
      "text/plain": [
       "(u'5555991584', (5, 1))"
      ]
     },
     "execution_count": 16,
     "metadata": {},
     "output_type": "execute_result"
    }
   ],
   "source": [
    "fullRatedMusicByKey.first()"
   ]
  },
  {
   "cell_type": "code",
   "execution_count": 17,
   "metadata": {
    "collapsed": true
   },
   "outputs": [],
   "source": [
    "fullRatedMusicAddByKey = fullRatedMusicByKey.reduceByKey(lambda v1,v2 : (v1[0]+v2[0], v1[1]+v2[1]))"
   ]
  },
  {
   "cell_type": "code",
   "execution_count": 18,
   "metadata": {
    "collapsed": false
   },
   "outputs": [
    {
     "data": {
      "text/plain": [
       "(u'B000038ICO', (50, 10))"
      ]
     },
     "execution_count": 18,
     "metadata": {},
     "output_type": "execute_result"
    }
   ],
   "source": [
    "fullRatedMusicAddByKey.first()"
   ]
  },
  {
   "cell_type": "code",
   "execution_count": 19,
   "metadata": {
    "collapsed": true
   },
   "outputs": [],
   "source": [
    "fullRatedAverages = fullRatedMusicAddByKey.map(lambda k: (k[0], k[1][0] / float(k[1][1])))"
   ]
  },
  {
   "cell_type": "code",
   "execution_count": 22,
   "metadata": {
    "collapsed": false
   },
   "outputs": [
    {
     "data": {
      "text/plain": [
       "(u'B000038ICO', 5.0)"
      ]
     },
     "execution_count": 22,
     "metadata": {},
     "output_type": "execute_result"
    }
   ],
   "source": [
    "fullRatedAverages.first()"
   ]
  },
  {
   "cell_type": "code",
   "execution_count": 23,
   "metadata": {
    "collapsed": false
   },
   "outputs": [
    {
     "name": "stdout",
     "output_type": "stream",
     "text": [
      "Songs B00LWJDZHI had average Rating of 5.000000\n",
      "Songs B00LWCRAQ2 had average Rating of 5.000000\n",
      "Songs B00LTL4VGI had average Rating of 5.000000\n",
      "Songs B00LTFDZXE had average Rating of 5.000000\n",
      "Songs B00LQUW3BC had average Rating of 5.000000\n",
      "Songs B00LQLPTXK had average Rating of 5.000000\n",
      "Songs B00LQ92TE4 had average Rating of 5.000000\n",
      "Songs B00LQ92A20 had average Rating of 5.000000\n",
      "Songs B00LQ8DG24 had average Rating of 5.000000\n",
      "Songs B00LPXAGV4 had average Rating of 5.000000\n"
     ]
    }
   ],
   "source": [
    "for pair in fullRatedAverages.top(10):\n",
    "    print \"Songs %s had average Rating of %f\" % (pair[0],pair[1])"
   ]
  },
  {
   "cell_type": "code",
   "execution_count": null,
   "metadata": {
    "collapsed": true
   },
   "outputs": [],
   "source": []
  }
 ],
 "metadata": {
  "kernelspec": {
   "display_name": "Python 2",
   "language": "python",
   "name": "python2"
  },
  "language_info": {
   "codemirror_mode": {
    "name": "ipython",
    "version": 2
   },
   "file_extension": ".py",
   "mimetype": "text/x-python",
   "name": "python",
   "nbconvert_exporter": "python",
   "pygments_lexer": "ipython2",
   "version": "2.7.11"
  }
 },
 "nbformat": 4,
 "nbformat_minor": 0
}